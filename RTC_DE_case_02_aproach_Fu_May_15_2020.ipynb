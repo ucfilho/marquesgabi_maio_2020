{
  "nbformat": 4,
  "nbformat_minor": 0,
  "metadata": {
    "colab": {
      "name": "RTC_DE_case_02_aproach_Fu_May_15_2020.ipynb",
      "provenance": [],
      "collapsed_sections": [],
      "include_colab_link": true
    },
    "kernelspec": {
      "name": "python3",
      "display_name": "Python 3"
    }
  },
  "cells": [
    {
      "cell_type": "markdown",
      "metadata": {
        "id": "view-in-github",
        "colab_type": "text"
      },
      "source": [
        "<a href=\"https://colab.research.google.com/github/ucfilho/marquesgabi_maio_2020/blob/master/RTC_DE_case_02_aproach_Fu_May_15_2020.ipynb\" target=\"_parent\"><img src=\"https://colab.research.google.com/assets/colab-badge.svg\" alt=\"Open In Colab\"/></a>"
      ]
    },
    {
      "cell_type": "code",
      "metadata": {
        "id": "wGzR2VpcZHYA",
        "colab_type": "code",
        "colab": {}
      },
      "source": [
        "import pandas as pd\n",
        "from scipy.optimize import differential_evolution\n",
        "import numpy as np\n",
        "import matplotlib.pyplot as plt"
      ],
      "execution_count": 0,
      "outputs": []
    },
    {
      "cell_type": "code",
      "metadata": {
        "id": "Dt6anZvATxzg",
        "colab_type": "code",
        "colab": {}
      },
      "source": [
        "#********************PROGRAMA PRINCIPAL*************************\n",
        "\n",
        "Trocas=5\n",
        "mCp=[200,100,300,500] #[kW/K]\n",
        "tempInicial=[423.0,443.0,323.0,353.0] #[K]\n",
        "tempAtual=np.copy(tempInicial) \n",
        "tempAlvo=[323.0,313.0,393.0,383.0] #[K]\n",
        "U=0.1 #[kW/(m2.K)]\n",
        "coefCustoUQ=110.0 #[$/(kW.ano)]\n",
        "coefCustoUF=10.0 #[$/(kW.ano)]\n",
        "\n",
        "# the last position in MAX and MIN vector represent which moment the split \n",
        "#    occur not which stream (split represent which stream) \n",
        "#    for this reason it reach larger value\n",
        "#MAX=np.array([3,3,3,3,3,3,3,3,3,3,0,0,0,0,0,1,3,4]) # ,1,3,4]) Alpha,Split,WhenSplit\n",
        "#MIN=np.array([0,0,0,0,0,0,0,0,0,0,-100,-100,-100,-100,-100,0,0,0])\n",
        "\n",
        "MAX=np.array([3,3,3,3,3,3,3,3,3,3,0,0,0,0,0,1,3,4]) # ,1,3,4]) Alpha,Split,WhenSplit\n",
        "MIN=np.array([0,0,0,0,0,0,0,0,0,0,-100,-100,-100,-100,-100,0,0,0])\n",
        "NPAR=1\n",
        "\n",
        "\n",
        "\n",
        "cols=int(3*Trocas+3)\n",
        "x=np.zeros((NPAR,cols))\n",
        "\n",
        "for i in range(NPAR):\n",
        "  for j in range(cols):\n",
        "    r=np.random.random()\n",
        "    x[i,j]=r*(MAX[j]-MIN[j])+MIN[j]\n",
        "\n",
        "bounds=[]\n",
        "for k in range(len(MAX)):\n",
        "  bounds.append((MIN[k],MAX[k]))\n",
        "\n",
        "\n",
        "#print(bounds)\n",
        "\n",
        "mut=0.5\n",
        "crossp=0.5\n",
        "NPAR=10\n",
        "its=5\n",
        "cols=18"
      ],
      "execution_count": 0,
      "outputs": []
    },
    {
      "cell_type": "code",
      "metadata": {
        "id": "wkePQEVg8bbY",
        "colab_type": "code",
        "colab": {}
      },
      "source": [
        "# Enthalpy =  2014 (kJ/kg )\n",
        "# https://www.engineeringtoolbox.com/saturated-steam-properties-d_101.html"
      ],
      "execution_count": 0,
      "outputs": []
    },
    {
      "cell_type": "code",
      "metadata": {
        "id": "MjqwkVE67u2g",
        "colab_type": "code",
        "outputId": "a2eea266-9928-4849-f09a-dd68e47392a0",
        "colab": {
          "base_uri": "https://localhost:8080/",
          "height": 72
        }
      },
      "source": [
        "!git clone https://github.com/ucfilho/raianars_RTC_optimization #clonar do Github\n",
        "%cd raianars_RTC_optimization\n",
        "import de_bounds_matriz"
      ],
      "execution_count": 4,
      "outputs": [
        {
          "output_type": "stream",
          "text": [
            "fatal: destination path 'raianars_RTC_optimization' already exists and is not an empty directory.\n",
            "/content/raianars_RTC_optimization\n"
          ],
          "name": "stdout"
        }
      ]
    },
    {
      "cell_type": "code",
      "metadata": {
        "id": "AJAKALcG-KF6",
        "colab_type": "code",
        "colab": {}
      },
      "source": [
        "def ChangeTemp(ki,kj,i,j,Tout,Cp,deltaT):\n",
        "  global NPAR\n",
        "  erro=np.zeros((NPAR)) # erro=1 if there  is an error : penalties\n",
        "  tempSaidaQ=Tout[ki,i]+deltaT[ki,kj]\n",
        "  tempSaidaF=-Cp[kj]*deltaT[ki,kj]/(Cp[j])+Tout[ki,j]\n",
        "  flag=0 # flag : logical test\n",
        "  Thot=np.copy(Tout[ki,i]) # value used to return original value (if request)\n",
        "  Tcold=np.copy(Tout[ki,j]) # value used to return original value (if request)\n",
        "  if(Tout[ki,i] > Tout[ki,j]): #Tquente maior Tfria: vaores atuais\n",
        "    if(tempSaidaQ > tempSaidaF):#Tquente maior Tfria: saidas\n",
        "      flag=1\n",
        "  if(flag>0):\n",
        "    Tout[ki,i]=tempSaidaQ\n",
        "    Tout[ki,j]=tempSaidaF\n",
        "  else:\n",
        "    erro[ki]=1\n",
        "\n",
        "\n",
        "  \n",
        "  return Tout,erro,Thot,Tcold\n",
        "  # Tout,erro,Thot,Tcold=ChangeTemp(ki,kj,i,j,Tout,Cp,deltaT)       \n",
        " "
      ],
      "execution_count": 0,
      "outputs": []
    },
    {
      "cell_type": "code",
      "metadata": {
        "colab_type": "code",
        "id": "M3ougpFws_w9",
        "colab": {}
      },
      "source": [
        "def SharkBuildMatriz(x):\n",
        "  # Ind_I,Ind_J,deltaT, Split, WhenSplit, Alpha=SharkBuildMatriz(x)\n",
        "  # add one position in three variables (Ind_J,Ind_I,deltaT)\n",
        "  # Alfa and Split (split choose the moment and alpha the fraction)\n",
        "  # Split=which stream\n",
        "  # Alfa=fraction \n",
        "  \n",
        "  global Trocas\n",
        "  NPAR=1\n",
        "  #cols=len(tempInicial)\n",
        "  size=int(3*Trocas+3) # number 3 represent split, alfa and WhenSplit\n",
        "  # add one exchange\n",
        "  x=np.array(x).reshape(1,size)\n",
        "  # print('x=');print(x)\n",
        "  Ind_I=np.zeros((NPAR,Trocas)).astype(np.int64)\n",
        "  Ind_J=np.zeros((NPAR,Trocas)).astype(np.int64)\n",
        "  \n",
        "  Tout=np.zeros((NPAR,Trocas))\n",
        "  deltaT=np.zeros((NPAR,Trocas))\n",
        "  for i in range(NPAR):\n",
        "    Alpha=x[i,size-3]\n",
        "    Split=round(x[i,size-2]).astype(np.int64)\n",
        "    WhenSplit=round(x[i,size-1]).astype(np.int64)\n",
        "    for j in range(Trocas):\n",
        "      Ind_I[i,j]=round(x[i,j])\n",
        "      Ind_J[i,j]=round(x[i,j+Trocas])\n",
        "      deltaT[i,j]=x[i,j+2*Trocas] \n",
        "\n",
        "  return Ind_I,Ind_J,deltaT, Split, WhenSplit, Alpha\n",
        "  #Ind_I,Ind_J,deltaT, Split, WhenSplit, Alpha=SharkBuildMatriz(x)"
      ],
      "execution_count": 0,
      "outputs": []
    },
    {
      "cell_type": "code",
      "metadata": {
        "id": "tiAuxushMBim",
        "colab_type": "code",
        "colab": {}
      },
      "source": [
        ""
      ],
      "execution_count": 0,
      "outputs": []
    },
    {
      "cell_type": "code",
      "metadata": {
        "id": "UJGjsc_haGya",
        "colab_type": "code",
        "colab": {
          "base_uri": "https://localhost:8080/",
          "height": 55
        },
        "outputId": "cf9295b8-a67f-437d-fae1-c4361f322f89"
      },
      "source": [
        "'''\n",
        "def Area(x):\n",
        "\n",
        "  global mCp,tempAlvo,tempInicial,Trocas,U\n",
        "  \n",
        "  NPAR=1\n",
        "  \n",
        "  Area=[]\n",
        "\n",
        "  Ind_I,Ind_J,deltaT,Tin, Tout=buildMatriz(x) \n",
        "  Tatual=np.copy(np.array(tempInicial))\n",
        "\n",
        "  rows=Trocas \n",
        "  cols=len(mCp)\n",
        "\n",
        "  Area_Particula=[]\n",
        "\n",
        "  for k in range(Trocas):\n",
        "\n",
        "    i=Ind_I[0,k]\n",
        "    j=Ind_J[0,k]\n",
        "    tempSaidaQ=Tatual[i]+deltaT[0,k]\n",
        "    tempSaidaF=-deltaT[0,k]*mCp[i]/(mCp[j])+Tatual[j]\n",
        "\n",
        "    Told_i=Tatual[i]\n",
        "    Told_j=Tatual[j]\n",
        "\n",
        "    Tatual[i]=np.copy(tempSaidaQ)\n",
        "    Tatual[j]=np.copy(tempSaidaF)\n",
        "    deltaT1=Tatual[i]-tempSaidaF\n",
        "    deltaT2=tempSaidaQ-Tatual[j]\n",
        "    try:\n",
        "      A=(deltaT1-deltaT2)\n",
        "      B=np.log((deltaT1/deltaT2))\n",
        "      deltaTMediaLog=A/B\n",
        "    except:\n",
        "      deltaTMediaLog=1e99\n",
        "  \n",
        "    if(deltaTMediaLog==1e99):\n",
        "      AreaCalc=1e99\n",
        "    else:\n",
        "      AreaCalc=abs(deltaT[0,k]*mCp[i]/(U*deltaTMediaLog))\n",
        "\n",
        "    if(Told_i==Tatual[i]):\n",
        "      AreaCalc=0\n",
        "\n",
        "    if(Told_j==Tatual[j]):\n",
        "      AreaCalc=0\n",
        "\n",
        "      Area_Particula.append(AreaCalc)\n",
        "      \n",
        "  Area.append(Area_Particula)\n",
        "\n",
        "  return Area\n",
        "  '''"
      ],
      "execution_count": 7,
      "outputs": [
        {
          "output_type": "execute_result",
          "data": {
            "text/plain": [
              "'\\ndef Area(x):\\n\\n  global mCp,tempAlvo,tempInicial,Trocas,U\\n  \\n  NPAR=1\\n  \\n  Area=[]\\n\\n  Ind_I,Ind_J,deltaT,Tin, Tout=buildMatriz(x) \\n  Tatual=np.copy(np.array(tempInicial))\\n\\n  rows=Trocas \\n  cols=len(mCp)\\n\\n  Area_Particula=[]\\n\\n  for k in range(Trocas):\\n\\n    i=Ind_I[0,k]\\n    j=Ind_J[0,k]\\n    tempSaidaQ=Tatual[i]+deltaT[0,k]\\n    tempSaidaF=-deltaT[0,k]*mCp[i]/(mCp[j])+Tatual[j]\\n\\n    Told_i=Tatual[i]\\n    Told_j=Tatual[j]\\n\\n    Tatual[i]=np.copy(tempSaidaQ)\\n    Tatual[j]=np.copy(tempSaidaF)\\n    deltaT1=Tatual[i]-tempSaidaF\\n    deltaT2=tempSaidaQ-Tatual[j]\\n    try:\\n      A=(deltaT1-deltaT2)\\n      B=np.log((deltaT1/deltaT2))\\n      deltaTMediaLog=A/B\\n    except:\\n      deltaTMediaLog=1e99\\n  \\n    if(deltaTMediaLog==1e99):\\n      AreaCalc=1e99\\n    else:\\n      AreaCalc=abs(deltaT[0,k]*mCp[i]/(U*deltaTMediaLog))\\n\\n    if(Told_i==Tatual[i]):\\n      AreaCalc=0\\n\\n    if(Told_j==Tatual[j]):\\n      AreaCalc=0\\n\\n      Area_Particula.append(AreaCalc)\\n      \\n  Area.append(Area_Particula)\\n\\n  return Area\\n  '"
            ]
          },
          "metadata": {
            "tags": []
          },
          "execution_count": 7
        }
      ]
    },
    {
      "cell_type": "code",
      "metadata": {
        "id": "Ha_XxG-tT7yB",
        "colab_type": "code",
        "colab": {}
      },
      "source": [
        "def Temperatura(x):\n",
        "  global Trocas, mCp,tempInicial,tempAlvo,Ttest\n",
        "\n",
        "  NPAR=1\n",
        "  #print(x)\n",
        "  #print('inside temperatura function')\n",
        "  Tin=np.zeros(Trocas)\n",
        "  Tout=np.zeros((NPAR,Trocas))\n",
        "  mCpin=np.zeros(Trocas)\n",
        "  \n",
        "  rows=Trocas \n",
        "  cols=Trocas\n",
        "  Rec_Temp=np.zeros((rows+4,cols))# four extra positions to better view and one to split\n",
        "\n",
        "  Ind_I,Ind_J,deltaT, Split, WhenSplit, Alpha=SharkBuildMatriz(x)\n",
        "\n",
        "\n",
        "  if(WhenSplit==Trocas-1):\n",
        "    Ind_1st=WhenSplit-2\n",
        "    Ind_2nd=Trocas-1\n",
        "  else:\n",
        "    Ind_1st=WhenSplit\n",
        "    Ind_2nd=Trocas-1\n",
        "  \n",
        "  #=====================\n",
        "  # part B: allocating split in cold or hot stream\n",
        "  # Hot=1 means hot stream is split\n",
        "  # Hot=0 means hot stream is not split (so cold stream is split)\n",
        "  if(tempInicial[Split]>tempAlvo[Split]): # hot stream is spliting\n",
        "    Hot=1 \n",
        "    Ind_I[0,Ind_1st]=Split # two streams are correct by split information\n",
        "    Ind_I[0,Ind_2nd]=Trocas-1 # two streams are correct by split information\n",
        "  else: # cold stream is spliting\n",
        "    Hot=0 \n",
        "    Ind_J[0,Ind_1st]=Split # two streams are correct by split information\n",
        "    Ind_J[0,Ind_2nd]=Trocas-1 # two streams are correct by split information\n",
        "\n",
        "  #=====================\n",
        "  # part C: bulding mCp with split values and temperatures with split values\n",
        "  for kk in range(Trocas-1):  # ???(Trocas-1) should be replaced by (Trocas-2)?\n",
        "    Tin[kk]=np.copy(tempInicial[kk])\n",
        "    mCpin[kk]=mCp[kk]\n",
        "\n",
        "  Tin[Trocas-1]=tempInicial[Split]\n",
        "  mCpin[Trocas-1]=mCpin[Split]    \n",
        "\n",
        "\n",
        "  mCpout=np.copy(mCpin)\n",
        "  if(Split==Trocas-1):\n",
        "    mCpout[Split-1]= Alpha*mCpin[Split]\n",
        "    mCpout[Split]= (1-Alpha)*mCpin[Split]\n",
        "  else:\n",
        "    mCpout[Split]=Alpha*mCpin[Split]\n",
        "    mCpout[Trocas-1]= (1-Alpha)*mCpin[Split]\n",
        "  \n",
        "\n",
        "  for ki in range(NPAR):\n",
        "    for kj in range(Trocas): \n",
        "      Tout[ki,kj]=np.copy(Tin[kj])\n",
        "\n",
        "  # Lists Rec_Temp is used to build graph \n",
        "  for i in range(2):\n",
        "    for j in range(cols):\n",
        "      Rec_Temp[i,j]=np.copy(Tout[0,j])\n",
        "\n",
        "  Ttest=np.copy(Tout)\n",
        "  Grab=0 #grab is evaluation: 0: no split, 1:start slit, 2:conclude split \n",
        "  #=====================\n",
        "  # part D: start get temperatures using informations build (A,B,C)\n",
        "  Cont=1\n",
        "  for ki in range(NPAR):\n",
        "    for kj in range(Trocas):\n",
        "      Cont=Cont+1\n",
        "      k=kj\n",
        "      if(kj==WhenSplit):\n",
        "        Cp=np.copy(mCpout)\n",
        "        grab=1\n",
        "      elif(kj==WhenSplit+1):\n",
        "        Cp=np.copy(mCpout)\n",
        "        grab=2\n",
        "      else:\n",
        "        Cp=np.copy(mCpin)\n",
        "        grab=0\n",
        "      \n",
        "      if(grab==2):\n",
        "        if(Hot==1):\n",
        "          i=Trocas-1\n",
        "          j=Ind_J[ki,kj]\n",
        "        else:\n",
        "          i=Ind_I[ki,kj]\n",
        "          j=Trocas-1\n",
        "      else:\n",
        "        i=Ind_I[ki,kj]\n",
        "        j=Ind_J[ki,kj]\n",
        "\n",
        "      \n",
        "      Tout,erro,Thot,Tcold=ChangeTemp(ki,kj,i,j,Tout,Cp,deltaT) \n",
        "\n",
        "      for j in range(Trocas):\n",
        "        Rec_Temp[Cont,j]=np.copy(Tout[0,j])\n",
        "\n",
        "      \n",
        "      if(grab==2):\n",
        "        Taux=Alpha*Tout[ki,Split]+(1-Alpha)*Tout[ki,Trocas-1]\n",
        "        Tout[ki,Trocas-1]=np.copy(Taux)\n",
        "        Tout[ki,Split]=np.copy(Taux)\n",
        "        Cont=Cont+1\n",
        "        for j in range(Trocas):\n",
        "          Rec_Temp[Cont,j]=np.copy(Tout[0,j])\n",
        "        Cont=Cont+1\n",
        "\n",
        "      if(grab == 0):\n",
        "        if(Hot==1):\n",
        "          Tout[ki,Trocas-1]=Tout[ki,Split]\n",
        "        else:\n",
        "          Tout[ki,Trocas-1]=Tout[ki,Split]\n",
        "\n",
        "      for j in range(cols):\n",
        "        Rec_Temp[Cont,j]=np.copy(Tout[0,j])\n",
        "\n",
        "\n",
        "    \n",
        "  return Tout,erro,Rec_Temp\n",
        "\n",
        "  # return Ind_I,Ind_J,deltaT, Split, WhenSplit, Alpha # fake return until test\n",
        "  # return Ind_I,Ind_J,deltaT, Split, WhenSplit, Alpha,Tin # fake return until test\n",
        "  # return Ind_I,Ind_J,deltaT, Split, WhenSplit, Alpha,Tin, mCpin # fake return until test\n",
        "  # return Ind_I,Ind_J,deltaT, Split, WhenSplit, Alpha,Tin, mCpin, mCpout # fake return until test"
      ],
      "execution_count": 0,
      "outputs": []
    },
    {
      "cell_type": "code",
      "metadata": {
        "id": "GQ5b6YgWLNqr",
        "colab_type": "code",
        "colab": {}
      },
      "source": [
        "def Utility(mCp,Rec_Temp,tempAlvo):\n",
        "\n",
        "  global tempFinal\n",
        "  df=pd.DataFrame(Rec_Temp)\n",
        "  num=len(mCp)\n",
        "  tempFinal=np.zeros((num))\n",
        "  row=len(df.iloc[:,0])\n",
        "  col=len(df.iloc[0,:])-1\n",
        "  for i in range(row):\n",
        "    for j in range(col):\n",
        "      tempFinal[j]=np.copy(df.iloc[i,j]) \n",
        "\n",
        "  cols=len(mCp)\n",
        "  NPAR=1\n",
        "  '''\n",
        "  case II  TUQin=453 e TQout=453, TUFin=293 TUFout=313\n",
        "  '''\n",
        "  TUQin=453 # steam saturated 180 celsius\n",
        "  TUQout=453\n",
        "  TUFin=293 \n",
        "  TUFout=313\n",
        "  \n",
        "  Areas=[]\n",
        "  cargaUQtodas=[]\n",
        "  cargaUFtodas=[]\n",
        "\n",
        "  for ki in range(NPAR):\n",
        "    areaTrocador=[]\n",
        "    cargaUQ=0\n",
        "    cargaUF=0\n",
        "    for j in range(cols):\n",
        "      delta=tempAlvo[j]-tempFinal[j]\n",
        "      if(delta>0):#usa UQ\n",
        "        cargaUQ=cargaUQ+mCp[j]*delta\n",
        "        deltaT1=(TUQin-tempAlvo[j])\n",
        "        deltaT2=(TUQout-tempFinal[j])\n",
        "\n",
        "        try:\n",
        "          A=deltaT1-deltaT2\n",
        "          B=np.log(deltaT1/deltaT2)\n",
        "          deltaTMediaLog=A/B\n",
        "        except:\n",
        "          deltaTMediaLog=1e99\n",
        "\n",
        "        if(deltaTMediaLog==1e99):\n",
        "          areaTrocador.append(1e99)\n",
        "        else:\n",
        "          areaTrocador.append((abs(mCp[j]*(delta)/(U*deltaTMediaLog))))\n",
        "\n",
        "      elif(delta==0):#nao usa UF e UQ\n",
        "        deltaTMediaLog=0\n",
        "        areaTrocador.append(0) \n",
        "\n",
        "      else:#usa UF\n",
        "        deltaT1=(Tout[ki,j]-TUFout)\n",
        "        deltaT2=(tempAlvo[j]-TUFin)     \n",
        "        cargaUF=cargaUF+mCp[j]*(-delta)\n",
        "\n",
        "        #UF -> água resfriada -> entra a 303K e sai a 353K\n",
        "        try:\n",
        "          A=deltaT1-deltaT2\n",
        "          B=np.log(deltaT1/deltaT2)\n",
        "          deltaTMediaLog=A/B\n",
        "        except:\n",
        "          deltaTMediaLog=1e99\n",
        "        \n",
        "        if(deltaTMediaLog==1e99):\n",
        "          areaTrocador.append(1e99)\n",
        "        else:\n",
        "          areaTrocador.append((abs(mCp[j]*(-delta)/(U*deltaTMediaLog))))\n",
        "\n",
        "    cargaUQtodas.append(cargaUQ)\n",
        "    cargaUFtodas.append(cargaUF)\n",
        "\n",
        "    Areas.append(areaTrocador)\n",
        "\n",
        "  return Areas, cargaUQtodas,cargaUFtodas\n",
        "\n",
        "  # Areas, cargaUQtodas,cargaUFtodas=Utility(mCp,Rec_Temp,tempAlvo)"
      ],
      "execution_count": 0,
      "outputs": []
    },
    {
      "cell_type": "code",
      "metadata": {
        "colab_type": "code",
        "id": "LXHFFtlr7A0t",
        "colab": {}
      },
      "source": [
        "def SharkArea(x):\n",
        "  #global Trocas, mCp,tempInicial,tempAlvo,Ttest\n",
        "  global mCp,tempAlvo,tempInicial,Trocas,U,Trocas\n",
        "  global Rec_Cold,Rec_Hot,Rec_Tcold,Rec_Thot\n",
        "\n",
        "  global areaTrocadores # temporary (just for test)\n",
        "\n",
        "  \n",
        "  NPAR=1\n",
        "  \n",
        "  #Area=[]\n",
        "  Area_Particula=[]\n",
        "  Rec_Cold=[]\n",
        "  Rec_Hot=[]\n",
        "  Rec_Tcold=[]\n",
        "  Rec_Thot=[]\n",
        "\n",
        "  NPAR=1\n",
        "  Tin=np.zeros(Trocas)\n",
        "  Tout=np.zeros((NPAR,Trocas))\n",
        "  mCpin=np.zeros(Trocas)\n",
        "  \n",
        "  rows=Trocas \n",
        "  cols=Trocas\n",
        "  Rec_Temp=np.zeros((rows+4,cols))# four extra positions to better view and one to split\n",
        "\n",
        "  Ind_I,Ind_J,deltaT, Split, WhenSplit, Alpha=SharkBuildMatriz(x)\n",
        "\n",
        "\n",
        "  if(WhenSplit==Trocas-1):\n",
        "    Ind_1st=WhenSplit-2\n",
        "    Ind_2nd=Trocas-1\n",
        "  else:\n",
        "    Ind_1st=WhenSplit\n",
        "    Ind_2nd=Trocas-1\n",
        "  \n",
        "  #=====================\n",
        "  # part B: allocating split in cold or hot stream\n",
        "  # Hot=1 means hot stream is split\n",
        "  # Hot=0 means hot stream is not split (so cold stream is split)\n",
        "  if(tempInicial[Split]>tempAlvo[Split]): # hot stream is spliting\n",
        "    Hot=1 \n",
        "    Ind_I[0,Ind_1st]=Split # two streams are correct by split information\n",
        "    Ind_I[0,Ind_2nd]=Trocas-1 # two streams are correct by split information\n",
        "  else: # cold stream is spliting\n",
        "    Hot=0 \n",
        "    Ind_J[0,Ind_1st]=Split # two streams are correct by split information\n",
        "    Ind_J[0,Ind_2nd]=Trocas-1 # two streams are correct by split information\n",
        "\n",
        "  #=====================\n",
        "  # part C: bulding mCp with split values and temperatures with split values\n",
        "  for kk in range(Trocas-1):  # ???(Trocas-1) should be replaced by (Trocas-2)?\n",
        "    Tin[kk]=np.copy(tempInicial[kk])\n",
        "    mCpin[kk]=mCp[kk]\n",
        "\n",
        "  Tin[Trocas-1]=tempInicial[Split]\n",
        "  mCpin[Trocas-1]=mCpin[Split]    \n",
        "\n",
        "\n",
        "  mCpout=np.copy(mCpin)\n",
        "  if(Split==Trocas-1):\n",
        "    mCpout[Split-1]= Alpha*mCpin[Split]\n",
        "    mCpout[Split]= (1-Alpha)*mCpin[Split]\n",
        "  else:\n",
        "    mCpout[Split]=Alpha*mCpin[Split]\n",
        "    mCpout[Trocas-1]= (1-Alpha)*mCpin[Split]\n",
        "  \n",
        "\n",
        "  for ki in range(NPAR):\n",
        "    for kj in range(Trocas): \n",
        "      Tout[ki,kj]=np.copy(Tin[kj])\n",
        "\n",
        "  # Lists Rec_Temp is used to build graph \n",
        "  for i in range(2):\n",
        "    for j in range(cols):\n",
        "      Rec_Temp[i,j]=np.copy(Tout[0,j])\n",
        "\n",
        "  Ttest=np.copy(Tout)\n",
        "  Grab=0 #grab is evaluation: 0: no split, 1:start slit, 2:conclude split \n",
        "  #=====================\n",
        "  # part D: start get temperatures using informations build (A,B,C)\n",
        "  Cont=1\n",
        "  for ki in range(NPAR):\n",
        "    for kj in range(Trocas):\n",
        "      Cont=Cont+1\n",
        "      k=kj\n",
        "      if(kj==WhenSplit):\n",
        "        Cp=np.copy(mCpout)\n",
        "        grab=1\n",
        "      elif(kj==WhenSplit+1):\n",
        "        Cp=np.copy(mCpout)\n",
        "        grab=2\n",
        "      else:\n",
        "        Cp=np.copy(mCpin)\n",
        "        grab=0\n",
        "      \n",
        "      if(grab==2):\n",
        "        if(Hot==1):\n",
        "          i=Trocas-1\n",
        "          j=Ind_J[ki,kj]\n",
        "        else:\n",
        "          i=Ind_I[ki,kj]\n",
        "          j=Trocas-1\n",
        "      else:\n",
        "        i=Ind_I[ki,kj]\n",
        "        j=Ind_J[ki,kj]\n",
        "\n",
        "      \n",
        "      Tout,erro,Thot,Tcold=ChangeTemp(ki,kj,i,j,Tout,Cp,deltaT) \n",
        "\n",
        "      Told_i=Thot\n",
        "      Told_j=Tcold\n",
        "      tempSaidaQ=Tout[ki,i]\n",
        "      tempSaidaF=Tout[ki,j]\n",
        "      deltaT1=Told_i-tempSaidaF\n",
        "      deltaT2=tempSaidaQ-Told_j\n",
        "      Rec_Cold.append(deltaT2)\n",
        "      Rec_Tcold.append(tempSaidaF)\n",
        "      Rec_Hot.append(deltaT1)\n",
        "      Rec_Thot.append(tempSaidaQ)\n",
        "\n",
        "      try:\n",
        "        A=(deltaT1-deltaT2)\n",
        "        B=np.log((deltaT1/deltaT2))\n",
        "        deltaTMediaLog=A/B\n",
        "      except:\n",
        "        deltaTMediaLog=1e99\n",
        "    \n",
        "      if(deltaTMediaLog==1e99):\n",
        "        AreaCalc=1e99\n",
        "      else:\n",
        "        AreaCalc=abs(deltaT[0,i]*Cp[i]/(U*deltaTMediaLog))\n",
        "\n",
        "      if(Told_i==tempSaidaQ):\n",
        "        AreaCalc=0\n",
        "\n",
        "      if(Told_j==tempSaidaF):\n",
        "        AreaCalc=0\n",
        "      \n",
        "      AreaCalc=np.where(np.isnan(AreaCalc), 1e99, AreaCalc).ravel()\n",
        "\n",
        "      Area_Particula.append(AreaCalc[0]) \n",
        "      # just changing AreaCalc by AreaCalc[0]  you fix the code\n",
        "      # it is insane....\n",
        "\n",
        "      for j in range(Trocas):\n",
        "        Rec_Temp[Cont,j]=np.copy(Tout[0,j])\n",
        "\n",
        "      \n",
        "      if(grab==2):\n",
        "        Taux=Alpha*Tout[ki,Split]+(1-Alpha)*Tout[ki,Trocas-1]\n",
        "        Tout[ki,Trocas-1]=np.copy(Taux)\n",
        "        Tout[ki,Split]=np.copy(Taux)\n",
        "        Cont=Cont+1\n",
        "        for j in range(Trocas):\n",
        "          Rec_Temp[Cont,j]=np.copy(Tout[0,j])\n",
        "        Cont=Cont+1\n",
        "\n",
        "      if(grab == 0):\n",
        "        if(Hot==1):\n",
        "          Tout[ki,Trocas-1]=Tout[ki,Split]\n",
        "        else:\n",
        "          Tout[ki,Trocas-1]=Tout[ki,Split]\n",
        "\n",
        "      for j in range(cols):\n",
        "        Rec_Temp[Cont,j]=np.copy(Tout[0,j])\n",
        "\n",
        "  print('==================')\n",
        "  print(Area_Particula)\n",
        "    \n",
        "  return Area_Particula\n",
        "\n",
        "  # AreaCada=SharkArea(x)\n",
        "\n",
        "  # return Ind_I,Ind_J,deltaT, Split, WhenSplit, Alpha # fake return until test\n",
        "  # return Ind_I,Ind_J,deltaT, Split, WhenSplit, Alpha,Tin # fake return until test\n",
        "  # return Ind_I,Ind_J,deltaT, Split, WhenSplit, Alpha,Tin, mCpin # fake return until test\n",
        "  # return Ind_I,Ind_J,deltaT, Split, WhenSplit, Alpha,Tin, mCpin, mCpout # fake return until test"
      ],
      "execution_count": 0,
      "outputs": []
    },
    {
      "cell_type": "code",
      "metadata": {
        "id": "gv1ZudaGvEYt",
        "colab_type": "code",
        "colab": {}
      },
      "source": [
        "\n",
        "def CustoProcesso(Areas,Utilidades,cargaUFtodas,cargaUQtodas):\n",
        "  global coefCustoUQ,coefCustoUF\n",
        "  \n",
        "  NPAR=1\n",
        "  costTrocadores=0\n",
        "  Soma=0\n",
        "  cost=np.zeros((NPAR))\n",
        "  for i in range(NPAR):\n",
        "    cargaUQ=cargaUQtodas[i]\n",
        "    cargaUF=cargaUFtodas[i]\n",
        "    areaUtilidades=np.array(Utilidades).ravel()\n",
        "    Areas=np.array(Areas)\n",
        "    #print(Areas)\n",
        "    #print(areaUtilidades)\n",
        "    #row, col=Areas.shape\n",
        "    col=len(Areas)\n",
        "    #print(col)\n",
        "    for j in range(col):\n",
        "      #Soma=Soma+9094*Areas[0,j]**0.81\n",
        "      Soma=Soma+9094+221*Areas[j]**0.81\n",
        "    #row, col=areaUtilidades.shape\n",
        "    cols=len(areaUtilidades)\n",
        "    for j in range(cols):\n",
        "      #Soma=Soma+9094*areaUtilidades[0,j]**0.81\n",
        "      Soma=Soma+9094+221*areaUtilidades[j]**0.81\n",
        "\n",
        "    costTrocadores=Soma  \n",
        "    costUQ=coefCustoUQ*cargaUQ\n",
        "    costUF=coefCustoUF*cargaUF\n",
        "    \n",
        "    if(costTrocadores>=1e99):\n",
        "      cost[i]=1e99\n",
        "    else:\n",
        "      #cost[i]=costUQ+costUF+costTrocadores\n",
        "      cost[i]=abs(costUQ)+abs(costUF)+costTrocadores\n",
        "      \n",
        "  return cost"
      ],
      "execution_count": 0,
      "outputs": []
    },
    {
      "cell_type": "code",
      "metadata": {
        "id": "lmPfZ7arakM1",
        "colab_type": "code",
        "colab": {}
      },
      "source": [
        "#FUN calcula o TAC para um determinado arranjo\n",
        "#  cada calculo é feito em uma funcao a parte Fun usa todas funcoes \n",
        "\n",
        "def FUN(x):\n",
        "\n",
        "  global mCp,tempAtual,tempAlvo,tempInicial,U,coefCustoUQ,coefCustoUF\n",
        "  \n",
        "  NPAR=1\n",
        "  \n",
        "  funr=np.zeros((NPAR))\n",
        "  cols=len(mCp)\n",
        "  Ind_I,Ind_J,deltaT, Split, WhenSplit, Alpha=SharkBuildMatriz(x)\n",
        "  #print('++++++++++++')\n",
        "  #print(x)\n",
        "  #x=np.array(x)\n",
        "  x = x.reshape(-1, 18)\n",
        "  #print('+++ after modification +++')\n",
        "  #print(x)\n",
        "  Tout,Erro,Rec_Temp= Temperatura(x)\n",
        "  #areaTrocadores=SharkArea(x)\n",
        "  AreaCada=SharkArea(x)\n",
        "  areaTrocadores=np.array(AreaCada).ravel()\n",
        "  #print(areaTrocadores)\n",
        "  #print('areaTrocadores=',areaTrocadores)\n",
        "  #print('inside FUN')\n",
        "  #print('AreaCada=',np.array(AreaCada).ravel())\n",
        "  #areaTrocadores=np.array(pd.DataFrame(AreaCada)).ravel()\n",
        "  \n",
        "  areaUtilidade, cargaUQ,cargaUF=Utility(mCp,Rec_Temp,tempAlvo)\n",
        "  cost=CustoProcesso(areaTrocadores,areaUtilidade,cargaUF,cargaUQ)\n",
        "  funr=cost\n",
        "\n",
        "  for k in range(NPAR):\n",
        "    if(Erro[k]>0):\n",
        "      funr[k]=1e99\n",
        "  funr = np.where(np.isnan(cost), 1e99, cost)\n",
        "\n",
        "  #funr=1e99 # fake line (temporary)\n",
        "  return funr "
      ],
      "execution_count": 0,
      "outputs": []
    },
    {
      "cell_type": "code",
      "metadata": {
        "id": "K4uCBdRVKAOf",
        "colab_type": "code",
        "outputId": "4b71b02f-d925-4fbd-dc41-895fb8f93f69",
        "colab": {
          "base_uri": "https://localhost:8080/",
          "height": 176
        }
      },
      "source": [
        "\n",
        "Ttest=np.zeros((1,Trocas))\n",
        "\n",
        "Ind_I,Ind_J,deltaT, Split, WhenSplit, Alpha=SharkBuildMatriz(x)\n",
        "Tout,erro,Rec_Temp=Temperatura(x)\n",
        "\n",
        "print(Ind_I)\n",
        "print(Ind_J)\n",
        "print(deltaT)\n",
        "print('Split=',Split)\n",
        "print(Alpha)\n",
        "print(WhenSplit)\n",
        "print(\"#####------######\")\n",
        "print(Ttest)\n",
        "print(tempInicial)\n",
        "\n"
      ],
      "execution_count": 13,
      "outputs": [
        {
          "output_type": "stream",
          "text": [
            "[[2 2 2 0 2]]\n",
            "[[0 1 2 1 1]]\n",
            "[[-52.00488825 -82.02474726 -74.01747056 -93.68509477 -89.77493934]]\n",
            "Split= 3\n",
            "0.3547225056000255\n",
            "1\n",
            "#####------######\n",
            "[[423. 443. 323. 353. 353.]]\n",
            "[423.0, 443.0, 323.0, 353.0]\n"
          ],
          "name": "stdout"
        }
      ]
    },
    {
      "cell_type": "code",
      "metadata": {
        "id": "staDxSeFWyzK",
        "colab_type": "code",
        "outputId": "0267c560-ed19-4a25-d7cd-d3dfc825ad17",
        "colab": {
          "base_uri": "https://localhost:8080/",
          "height": 229
        }
      },
      "source": [
        "\n",
        "print('=====================')\n",
        "Tout,erro,Rec_Temp =Temperatura(x)\n",
        "df=pd.DataFrame(Rec_Temp)\n",
        "print('*****',Tout)\n",
        "#print(erro)\n",
        "print(df)\n"
      ],
      "execution_count": 14,
      "outputs": [
        {
          "output_type": "stream",
          "text": [
            "=====================\n",
            "***** [[423. 443. 323. 353. 353.]]\n",
            "       0      1      2      3      4\n",
            "0  423.0  443.0  323.0  353.0  353.0\n",
            "1  423.0  443.0  323.0  353.0  353.0\n",
            "2  423.0  443.0  323.0  353.0  353.0\n",
            "3  423.0  443.0  323.0  353.0  353.0\n",
            "4  423.0  443.0  323.0  353.0  353.0\n",
            "5  423.0  443.0  323.0  353.0  353.0\n",
            "6  423.0  443.0  323.0  353.0  353.0\n",
            "7  423.0  443.0  323.0  353.0  353.0\n",
            "8  423.0  443.0  323.0  353.0  353.0\n"
          ],
          "name": "stdout"
        }
      ]
    },
    {
      "cell_type": "code",
      "metadata": {
        "id": "ouDIo9TxD5Tm",
        "colab_type": "code",
        "outputId": "799cbc2f-37aa-4e94-f8d0-5dba3e383738",
        "colab": {
          "base_uri": "https://localhost:8080/",
          "height": 35
        }
      },
      "source": [
        "print(deltaT)"
      ],
      "execution_count": 15,
      "outputs": [
        {
          "output_type": "stream",
          "text": [
            "[[-52.00488825 -82.02474726 -74.01747056 -93.68509477 -89.77493934]]\n"
          ],
          "name": "stdout"
        }
      ]
    },
    {
      "cell_type": "code",
      "metadata": {
        "id": "A-E5HgBaPVC-",
        "colab_type": "code",
        "outputId": "22622f94-5f52-4075-9d5b-633d1311b633",
        "colab": {
          "base_uri": "https://localhost:8080/",
          "height": 125
        }
      },
      "source": [
        "Areas, cargaUQtodas,cargaUFtodas=Utility(mCp,Rec_Temp,tempAlvo)\n",
        "print('Area utilidades=',Areas)\n",
        "print('cargaUQtodas=',cargaUQtodas)\n",
        "print('cargaUFtodas=',cargaUFtodas)\n",
        "print('tempFinal=',tempFinal)\n",
        "print('tempAlvo=',tempAlvo)"
      ],
      "execution_count": 16,
      "outputs": [
        {
          "output_type": "stream",
          "text": [
            "Area utilidades= [[3248.207460325652, 2212.129845429153, 2319.5696647004447, 1783.374719693662]]\n",
            "cargaUQtodas= [36000.0]\n",
            "cargaUFtodas= [33000.0]\n",
            "tempFinal= [423. 443. 323. 353.]\n",
            "tempAlvo= [323.0, 313.0, 393.0, 383.0]\n"
          ],
          "name": "stdout"
        }
      ]
    },
    {
      "cell_type": "code",
      "metadata": {
        "id": "S80QizOyk77C",
        "colab_type": "code",
        "outputId": "137aa5c5-fc80-48a9-af36-e66f1856a122",
        "colab": {
          "base_uri": "https://localhost:8080/",
          "height": 35
        }
      },
      "source": [
        "print(WhenSplit)"
      ],
      "execution_count": 17,
      "outputs": [
        {
          "output_type": "stream",
          "text": [
            "1\n"
          ],
          "name": "stdout"
        }
      ]
    },
    {
      "cell_type": "code",
      "metadata": {
        "id": "z4RyeYueqKN1",
        "colab_type": "code",
        "outputId": "ac97fbab-a05f-48f3-a283-989ab3fe90fd",
        "colab": {
          "base_uri": "https://localhost:8080/",
          "height": 297
        }
      },
      "source": [
        "#df = df[:-1]\n",
        "Imagem=len(df.iloc[:,0]) # Imagens+5 to get better graph postions\n",
        "Change=range(Imagem)\n",
        "for k in range(Trocas):\n",
        "  plt.plot(Change,df.iloc[:,k])\n",
        "\n",
        "plt.xlabel('Stages')\n",
        "plt.ylabel('Temperature (K)')"
      ],
      "execution_count": 18,
      "outputs": [
        {
          "output_type": "execute_result",
          "data": {
            "text/plain": [
              "Text(0, 0.5, 'Temperature (K)')"
            ]
          },
          "metadata": {
            "tags": []
          },
          "execution_count": 18
        },
        {
          "output_type": "display_data",
          "data": {
            "image/png": "[encoded data removed]",
            "text/plain": [
              "<Figure size 432x288 with 1 Axes>"
            ]
          },
          "metadata": {
            "tags": [],
            "needs_background": "light"
          }
        }
      ]
    },
    {
      "cell_type": "code",
      "metadata": {
        "id": "Rq6zaln-6cGn",
        "colab_type": "code",
        "outputId": "c6f92689-d5a2-45e2-bf56-13fd68295a58",
        "colab": {
          "base_uri": "https://localhost:8080/",
          "height": 194
        }
      },
      "source": [
        "print(df)"
      ],
      "execution_count": 19,
      "outputs": [
        {
          "output_type": "stream",
          "text": [
            "       0      1      2      3      4\n",
            "0  423.0  443.0  323.0  353.0  353.0\n",
            "1  423.0  443.0  323.0  353.0  353.0\n",
            "2  423.0  443.0  323.0  353.0  353.0\n",
            "3  423.0  443.0  323.0  353.0  353.0\n",
            "4  423.0  443.0  323.0  353.0  353.0\n",
            "5  423.0  443.0  323.0  353.0  353.0\n",
            "6  423.0  443.0  323.0  353.0  353.0\n",
            "7  423.0  443.0  323.0  353.0  353.0\n",
            "8  423.0  443.0  323.0  353.0  353.0\n"
          ],
          "name": "stdout"
        }
      ]
    },
    {
      "cell_type": "code",
      "metadata": {
        "id": "r1Uf0lNsfPAf",
        "colab_type": "code",
        "colab": {}
      },
      "source": [
        "#print(Rec_Tcold)\n",
        "#print(Rec_Thot)"
      ],
      "execution_count": 0,
      "outputs": []
    },
    {
      "cell_type": "code",
      "metadata": {
        "id": "stkxAEVg9kcg",
        "colab_type": "code",
        "outputId": "ee42296c-0047-46cc-cbe9-74f0b9f4f48c",
        "colab": {
          "base_uri": "https://localhost:8080/",
          "height": 70
        }
      },
      "source": [
        "print(Split)\n",
        "print(WhenSplit)\n",
        "print(tempInicial)\n"
      ],
      "execution_count": 21,
      "outputs": [
        {
          "output_type": "stream",
          "text": [
            "3\n",
            "1\n",
            "[423.0, 443.0, 323.0, 353.0]\n"
          ],
          "name": "stdout"
        }
      ]
    },
    {
      "cell_type": "code",
      "metadata": {
        "id": "98ebmeBd6e5L",
        "colab_type": "code",
        "outputId": "3a41913f-6eb1-4b3c-af4f-78690484280a",
        "colab": {
          "base_uri": "https://localhost:8080/",
          "height": 1000
        }
      },
      "source": [
        "\n",
        "fobj=FUN\n",
        "\n",
        "x=np.zeros((NPAR,cols))\n",
        "for i in range(NPAR):\n",
        "  for j in range(cols):\n",
        "    r=np.random.random()\n",
        "    x[i,j]=r*(MAX[j]-MIN[j])+MIN[j]\n",
        "\n",
        "x,BEST,FOBEST,XY,BEST_XY=de_bounds_matriz.de(bounds, mut, crossp, \n",
        "                                             NPAR, its,fobj,x)\n"
      ],
      "execution_count": 22,
      "outputs": [
        {
          "output_type": "stream",
          "text": [
            "==================\n",
            "[0.0, 0.0, 0.0, 0.0, 747.6962167215346]\n",
            "==================\n",
            "[0.0, 0.0, 1406.739308774141, 1346.105125738435, 0.0]\n",
            "==================\n",
            "[0.0, 1050.268312933224, 0.0, 0.0, 944.0567948679058]\n",
            "==================\n",
            "[0.0, 0.0, 0.0, 0.0, 0.0]\n",
            "==================\n",
            "[0.0, 0.0, 0.0, 0.0, 0.0]\n",
            "==================\n",
            "[0.0, 0.0, 1e+99, 0.0, 1e+99]\n",
            "==================\n",
            "[887.241854947463, 0.0, 0.0, 0.0, 28.954056727900817]\n",
            "==================\n",
            "[0.0, 0.0, 0.0, 0.0, 0.0]\n",
            "==================\n",
            "[0.0, 1913.617459358943, 0.0, 0.0, 1e+99]\n",
            "==================\n",
            "[0.0, 0.0, 0.0, 0.0, 0.0]\n",
            "==================\n",
            "[0.0, 0.0, 0.0, 0.0, 486.62940418682075]\n",
            "==================\n",
            "[0.0, 0.0, 1195.9429542184762, 1048.011065355322, 0.0]\n",
            "==================\n",
            "[0.0, 1050.268312933224, 0.0, 0.0, 0.0]\n",
            "==================\n",
            "[0.0, 2011.2191336529118, 0.0, 1e+99, 0.0]\n",
            "==================\n",
            "[0.0, 0.0, 0.0, 0.0, 0.0]\n",
            "==================\n",
            "[0.0, 0.0, 1e+99, 0.0, 0.0]\n",
            "==================\n",
            "[0.0, 0.0, 0.0, 0.0, 1e+99]\n",
            "==================\n",
            "[0.0, 0.0, 0.0, 1e+99, 1e+99]\n",
            "==================\n",
            "[1462.6730589283184, 0.0, 0.0, 0.0, 0.0]\n",
            "==================\n",
            "[0.0, 1387.6603115692585, 0.0, 0.0, 0.0]\n",
            "==================\n",
            "[0.0, 0.0, 0.0, 0.0, 747.6962167215346]\n",
            "==================\n",
            "[0.0, 0.0, 1195.9429542184762, 1048.011065355322, 0.0]\n",
            "==================\n",
            "[0.0, 1050.268312933224, 0.0, 0.0, 944.0567948679058]\n",
            "==================\n",
            "[0.0, 0.0, 0.0, 0.0, 0.0]\n",
            "==================\n",
            "[0.0, 0.0, 0.0, 0.0, 0.0]\n",
            "==================\n",
            "[0.0, 0.0, 1e+99, 0.0, 1e+99]\n",
            "==================\n",
            "[887.241854947463, 0.0, 0.0, 0.0, 28.954056727900817]\n",
            "==================\n",
            "[0.0, 0.0, 0.0, 1e+99, 1e+99]\n",
            "==================\n",
            "[0.0, 1913.617459358943, 0.0, 0.0, 1e+99]\n",
            "==================\n",
            "[0.0, 0.0, 0.0, 0.0, 0.0]\n",
            "==================\n",
            "[0.0, 0.0, 0.0, 0.0, 747.6962167215346]\n",
            "==================\n",
            "[900.3621008706289, 0.0, 0.0, 1960.9011831688767, 0.0]\n",
            "==================\n",
            "[0.0, 0.0, 0.0, 0.0, 0.0]\n",
            "==================\n",
            "[0.0, 0.0, 0.0, 1e+99, 28.63615720826091]\n",
            "==================\n",
            "[0.0, 1563.6163978541308, 0.0, 0.0, 0.0]\n",
            "==================\n",
            "[0.0, 0.0, 1e+99, 0.0, 0.0]\n",
            "==================\n",
            "[0.0, 0.0, 0.0, 0.0, 0.0]\n",
            "==================\n",
            "[0.0, 0.0, 0.0, 0.0, 0.0]\n",
            "==================\n",
            "[1036.3709904739378, 0.0, 0.0, 0.0, 1e+99]\n",
            "==================\n",
            "[0.0, 0.0, 0.0, 0.0, 0.0]\n",
            "==================\n",
            "[0.0, 0.0, 0.0, 0.0, 747.6962167215346]\n",
            "==================\n",
            "[0.0, 0.0, 1195.9429542184762, 1048.011065355322, 0.0]\n",
            "==================\n",
            "[0.0, 1050.268312933224, 0.0, 0.0, 944.0567948679058]\n",
            "==================\n",
            "[0.0, 0.0, 0.0, 1e+99, 28.63615720826091]\n",
            "==================\n",
            "[0.0, 0.0, 0.0, 0.0, 0.0]\n",
            "==================\n",
            "[0.0, 0.0, 1e+99, 0.0, 1e+99]\n",
            "==================\n",
            "[887.241854947463, 0.0, 0.0, 0.0, 28.954056727900817]\n",
            "==================\n",
            "[0.0, 0.0, 0.0, 1e+99, 1e+99]\n",
            "==================\n",
            "[0.0, 1913.617459358943, 0.0, 0.0, 1e+99]\n",
            "==================\n",
            "[0.0, 0.0, 0.0, 0.0, 0.0]\n",
            "==================\n",
            "[0.0, 0.0, 0.0, 0.0, 0.0]\n",
            "==================\n",
            "[1213.9525134138144, 0.0, 0.0, 0.0, 480.7666650203447]\n",
            "==================\n",
            "[0.0, 0.0, 0.0, 0.0, 3.3244348402322883]\n",
            "==================\n",
            "[0.0, 2972.291025389619, 0.0, 0.0, 137.84795153051226]\n",
            "==================\n",
            "[0.0, 0.0, 0.0, 1e+99, 0.0]\n",
            "==================\n",
            "[501.834454425959, 0.0, 0.0, 0.0, 0.0]\n",
            "==================\n",
            "[0.0, 0.15615849841842527, 0.0, 0.0, 6.658540675146641]\n",
            "==================\n",
            "[0.0, 0.0, 0.0, 0.0, 0.0]\n",
            "==================\n",
            "[0.0, 2474.5523842967286, 0.0, 9770.1756162895, 512.6948139614361]\n",
            "==================\n",
            "[0.0, 0.0, 0.0, 0.0, 0.0]\n",
            "==================\n"
          ],
          "name": "stdout"
        },
        {
          "output_type": "stream",
          "text": [
            "/usr/local/lib/python3.6/dist-packages/ipykernel_launcher.py:124: RuntimeWarning: invalid value encountered in double_scalars\n",
            "/usr/local/lib/python3.6/dist-packages/ipykernel_launcher.py:125: RuntimeWarning: invalid value encountered in double_scalars\n",
            "/usr/local/lib/python3.6/dist-packages/ipykernel_launcher.py:5: RuntimeWarning: invalid value encountered in double_scalars\n",
            "  \"\"\"\n",
            "/usr/local/lib/python3.6/dist-packages/ipykernel_launcher.py:5: RuntimeWarning: divide by zero encountered in double_scalars\n",
            "  \"\"\"\n"
          ],
          "name": "stderr"
        },
        {
          "output_type": "stream",
          "text": [
            "[0.0, 0.0, 0.0, 0.0, 747.6962167215346]\n",
            "==================\n",
            "[1213.9525134138144, 0.0, 0.0, 0.0, 480.7666650203447]\n",
            "==================\n",
            "[0.0, 1050.268312933224, 0.0, 0.0, 944.0567948679058]\n",
            "==================\n",
            "[0.0, 2972.291025389619, 0.0, 0.0, 137.84795153051226]\n",
            "==================\n",
            "[0.0, 0.0, 0.0, 0.0, 0.0]\n",
            "==================\n",
            "[0.0, 0.0, 1e+99, 0.0, 1e+99]\n",
            "==================\n",
            "[887.241854947463, 0.0, 0.0, 0.0, 28.954056727900817]\n",
            "==================\n",
            "[0.0, 0.0, 0.0, 0.0, 0.0]\n",
            "==================\n",
            "[0.0, 2474.5523842967286, 0.0, 9770.1756162895, 512.6948139614361]\n",
            "==================\n",
            "[0.0, 0.0, 0.0, 0.0, 0.0]\n",
            "==================\n",
            "[0.0, 0.0, 0.0, 0.0, 0.0]\n",
            "==================\n",
            "[0.0, 997.6735939646052, 1e+99, 3316.716090521623, 0.0]\n",
            "==================\n",
            "[0.0, 0.0, 0.0, 0.0, 0.0]\n",
            "==================\n",
            "[0.0, 0.0, 0.0, 0.0, 137.84795153051226]\n",
            "==================\n",
            "[0.0, 0.0, 1e+99, 0.0, 0.0]\n",
            "==================\n",
            "[0.0, 0.0, 1e+99, 0.0, 0.0]\n",
            "==================\n",
            "[887.241854947463, 265.0329543246975, 0.0, 0.0, 0.0]\n",
            "==================\n",
            "[0.0, 0.0, 0.0, 2597.6300407641475, 0.0]\n",
            "==================\n",
            "[0.0, 999.6933901984281, 0.0, 0.0, 0.0]\n",
            "==================\n",
            "[0.0, 0.0, 0.0, 0.0, 0.0]\n",
            "==================\n",
            "[0.0, 0.0, 0.0, 0.0, 747.6962167215346]\n",
            "==================\n",
            "[1213.9525134138144, 0.0, 0.0, 0.0, 480.7666650203447]\n",
            "==================\n",
            "[0.0, 1050.268312933224, 0.0, 0.0, 944.0567948679058]\n",
            "==================\n",
            "[0.0, 2972.291025389619, 0.0, 0.0, 137.84795153051226]\n",
            "==================\n",
            "[0.0, 0.0, 0.0, 0.0, 0.0]\n",
            "==================\n",
            "[0.0, 0.0, 1e+99, 0.0, 1e+99]\n",
            "==================\n",
            "[887.241854947463, 0.0, 0.0, 0.0, 28.954056727900817]\n",
            "==================\n",
            "[0.0, 0.0, 0.0, 2597.6300407641475, 0.0]\n",
            "==================\n",
            "[0.0, 2474.5523842967286, 0.0, 9770.1756162895, 512.6948139614361]\n",
            "==================\n",
            "[0.0, 0.0, 0.0, 0.0, 0.0]\n",
            "==================\n",
            "[0.0, 0.0, 0.0, 0.0, 0.0]\n",
            "==================\n",
            "[0.0, 0.0, 0.0, 447.66987100787213, 0.0]\n",
            "==================\n",
            "[0.0, 0.0, 1e+99, 0.0, 0.0]\n",
            "==================\n",
            "[0.0, 2038.1227909014397, 0.0, 0.0, 0.0]\n",
            "==================\n",
            "[0.0, 1094.2583413610953, 0.0, 0.0, 0.0]\n",
            "==================\n",
            "[0.0, 0.0, 1e+99, 1074.4222335294664, 0.0]\n",
            "==================\n",
            "[887.241854947463, 392.69224936611334, 0.0, 0.0, 0.0]\n",
            "==================\n",
            "[0.0, 889.5304268636833, 0.0, 0.0, 399.96650456297726]\n",
            "==================\n",
            "[451.1248968503067, 750.5319742062968, 0.0, 0.0, 0.0]\n",
            "==================\n",
            "[0.0, 1136.5495081867382, 0.0, 0.0, 0.0]\n",
            "==================\n",
            "[0.0, 0.0, 0.0, 0.0, 747.6962167215346]\n",
            "==================\n",
            "[1213.9525134138144, 0.0, 0.0, 0.0, 480.7666650203447]\n",
            "==================\n",
            "[0.0, 1050.268312933224, 0.0, 0.0, 944.0567948679058]\n",
            "==================\n",
            "[0.0, 2972.291025389619, 0.0, 0.0, 137.84795153051226]\n",
            "==================\n",
            "[0.0, 0.0, 0.0, 0.0, 0.0]\n",
            "==================\n",
            "[0.0, 0.0, 1e+99, 0.0, 1e+99]\n",
            "==================\n",
            "[887.241854947463, 0.0, 0.0, 0.0, 28.954056727900817]\n",
            "==================\n",
            "[0.0, 0.0, 0.0, 2597.6300407641475, 0.0]\n",
            "==================\n",
            "[0.0, 2474.5523842967286, 0.0, 9770.1756162895, 512.6948139614361]\n",
            "==================\n",
            "[0.0, 0.0, 0.0, 0.0, 0.0]\n",
            "==================\n",
            "[0.0, 0.0, 0.0, 0.0, 747.6962167215346]\n",
            "==================\n",
            "[1213.9525134138144, 0.0, 0.0, 0.0, 480.7666650203447]\n",
            "==================\n",
            "[0.0, 1050.268312933224, 0.0, 0.0, 944.0567948679058]\n",
            "==================\n",
            "[0.0, 2972.291025389619, 0.0, 0.0, 137.84795153051226]\n",
            "==================\n",
            "[0.0, 0.0, 0.0, 0.0, 0.0]\n",
            "==================\n",
            "[0.0, 0.0, 1e+99, 0.0, 1e+99]\n",
            "==================\n",
            "[887.241854947463, 0.0, 0.0, 0.0, 28.954056727900817]\n",
            "==================\n",
            "[0.0, 0.0, 0.0, 2597.6300407641475, 0.0]\n",
            "==================\n",
            "[0.0, 2474.5523842967286, 0.0, 9770.1756162895, 512.6948139614361]\n",
            "==================\n",
            "[0.0, 0.0, 0.0, 0.0, 0.0]\n"
          ],
          "name": "stdout"
        }
      ]
    },
    {
      "cell_type": "code",
      "metadata": {
        "id": "H1vR1CCOfG2S",
        "colab_type": "code",
        "colab": {
          "base_uri": "https://localhost:8080/",
          "height": 88
        },
        "outputId": "a4212e1f-8407-4f19-cde2-adf2ec0c5403"
      },
      "source": [
        "print(BEST)"
      ],
      "execution_count": 23,
      "outputs": [
        {
          "output_type": "stream",
          "text": [
            "[  2.60677308   2.91788048   1.80087461   0.25688451   0.93616524\n",
            "   2.01491653   1.66159728   2.22192125   0.58402343   2.13273564\n",
            " -68.44049191 -74.76494838 -32.6422641  -33.44811646  -0.67594885\n",
            "   0.73897894   0.60889406   0.38688884]\n"
          ],
          "name": "stdout"
        }
      ]
    },
    {
      "cell_type": "code",
      "metadata": {
        "id": "tSXs89ll9-LJ",
        "colab_type": "code",
        "colab": {
          "base_uri": "https://localhost:8080/",
          "height": 35
        },
        "outputId": "a78cd740-9fad-4731-c151-aa2818c76206"
      },
      "source": [
        "print(FOBEST)"
      ],
      "execution_count": 24,
      "outputs": [
        {
          "output_type": "stream",
          "text": [
            "[3251119.05486203]\n"
          ],
          "name": "stdout"
        }
      ]
    },
    {
      "cell_type": "code",
      "metadata": {
        "id": "6hyOxTBGfbg4",
        "colab_type": "code",
        "colab": {
          "base_uri": "https://localhost:8080/",
          "height": 229
        },
        "outputId": "da40a486-20ff-48d8-fe1c-831a728c183e"
      },
      "source": [
        "xbest=BEST\n",
        "print('=====================')\n",
        "Tout,erro,Rec_Temp =Temperatura(xbest)\n",
        "df=pd.DataFrame(Rec_Temp)\n",
        "print('*****',Tout)\n",
        "#print(erro)\n",
        "print(df)"
      ],
      "execution_count": 25,
      "outputs": [
        {
          "output_type": "stream",
          "text": [
            "=====================\n",
            "***** [[423.         392.42391816 368.85231089 353.         392.42391816]]\n",
            "       0           1           2      3           4\n",
            "0  423.0  443.000000  323.000000  353.0  443.000000\n",
            "1  423.0  443.000000  323.000000  353.0  443.000000\n",
            "2  423.0  374.559508  368.626995  353.0  443.000000\n",
            "3  423.0  374.559508  368.626995  353.0  443.000000\n",
            "4  423.0  392.423918  368.626995  353.0  392.423918\n",
            "5  423.0  392.423918  368.626995  353.0  392.423918\n",
            "6  423.0  392.423918  368.626995  353.0  392.423918\n",
            "7  423.0  392.423918  368.626995  353.0  392.423918\n",
            "8  423.0  392.423918  368.852311  353.0  392.423918\n"
          ],
          "name": "stdout"
        }
      ]
    },
    {
      "cell_type": "code",
      "metadata": {
        "id": "ucmPFbcPf0fz",
        "colab_type": "code",
        "colab": {
          "base_uri": "https://localhost:8080/",
          "height": 297
        },
        "outputId": "f3100efd-a649-4032-af86-8f320f04430d"
      },
      "source": [
        "Imagem=len(df.iloc[:,0]) # Imagens+5 to get better graph postions\n",
        "Change=range(Imagem)\n",
        "for k in range(Trocas):\n",
        "  plt.plot(Change,df.iloc[:,k])\n",
        "\n",
        "plt.xlabel('Stages')\n",
        "plt.ylabel('Temperature (K)')"
      ],
      "execution_count": 26,
      "outputs": [
        {
          "output_type": "execute_result",
          "data": {
            "text/plain": [
              "Text(0, 0.5, 'Temperature (K)')"
            ]
          },
          "metadata": {
            "tags": []
          },
          "execution_count": 26
        },
        {
          "output_type": "display_data",
          "data": {
            "image/png": "[encoded data removed]",
            "text/plain": [
              "<Figure size 432x288 with 1 Axes>"
            ]
          },
          "metadata": {
            "tags": [],
            "needs_background": "light"
          }
        }
      ]
    },
    {
      "cell_type": "code",
      "metadata": {
        "id": "82zAZ6wyKVnu",
        "colab_type": "code",
        "colab": {
          "base_uri": "https://localhost:8080/",
          "height": 229
        },
        "outputId": "ba468cbf-85c3-4978-9690-0e9529a37028"
      },
      "source": [
        "print('=====================')\n",
        "x=BEST\n",
        "Tout,erro,Rec_Temp =Temperatura(x)\n",
        "df=pd.DataFrame(Rec_Temp)\n",
        "print('*****',Tout)\n",
        "#print(erro)\n",
        "print(df)"
      ],
      "execution_count": 27,
      "outputs": [
        {
          "output_type": "stream",
          "text": [
            "=====================\n",
            "***** [[423.         392.42391816 368.85231089 353.         392.42391816]]\n",
            "       0           1           2      3           4\n",
            "0  423.0  443.000000  323.000000  353.0  443.000000\n",
            "1  423.0  443.000000  323.000000  353.0  443.000000\n",
            "2  423.0  374.559508  368.626995  353.0  443.000000\n",
            "3  423.0  374.559508  368.626995  353.0  443.000000\n",
            "4  423.0  392.423918  368.626995  353.0  392.423918\n",
            "5  423.0  392.423918  368.626995  353.0  392.423918\n",
            "6  423.0  392.423918  368.626995  353.0  392.423918\n",
            "7  423.0  392.423918  368.626995  353.0  392.423918\n",
            "8  423.0  392.423918  368.852311  353.0  392.423918\n"
          ],
          "name": "stdout"
        }
      ]
    },
    {
      "cell_type": "code",
      "metadata": {
        "id": "4mdDh6nBK02F",
        "colab_type": "code",
        "colab": {
          "base_uri": "https://localhost:8080/",
          "height": 231
        },
        "outputId": "da4006fc-1629-4d26-e1a9-cf709d62d7d7"
      },
      "source": [
        "Areas, cargaUQtodas,cargaUFtodas=Utility(mCp,Rec_Temp,tempAlvo)\n",
        "print('Areas utilidades=',Areas)\n",
        "AreaCada=SharkArea(BEST)\n",
        "print('Areas trocadores=',AreaCada)\n",
        "print('cargaUQtodas=',cargaUQtodas)\n",
        "print('cargaUFtodas=',cargaUFtodas)\n",
        "print('tempFinal=',tempFinal)\n",
        "print('tempAlvo=',tempAlvo)\n",
        "print('tempInicial=',tempInicial)"
      ],
      "execution_count": 28,
      "outputs": [
        {
          "output_type": "stream",
          "text": [
            "Areas utilidades= [[3248.207460325652, 1843.212810938067, 1014.6866894595942, 1783.374719693662]]\n",
            "==================\n",
            "[887.241854947463, 0.0, 0.0, 0.0, 28.954056727900817]\n",
            "Areas trocadores= [887.241854947463, 0.0, 0.0, 0.0, 28.954056727900817]\n",
            "cargaUQtodas= [22244.306733142286]\n",
            "cargaUFtodas= [27942.391815876123]\n",
            "tempFinal= [423.         392.42391816 368.85231089 353.        ]\n",
            "tempAlvo= [323.0, 313.0, 393.0, 383.0]\n",
            "tempInicial= [423.0, 443.0, 323.0, 353.0]\n"
          ],
          "name": "stdout"
        },
        {
          "output_type": "stream",
          "text": [
            "/usr/local/lib/python3.6/dist-packages/ipykernel_launcher.py:125: RuntimeWarning: invalid value encountered in double_scalars\n",
            "/usr/local/lib/python3.6/dist-packages/ipykernel_launcher.py:124: RuntimeWarning: invalid value encountered in double_scalars\n"
          ],
          "name": "stderr"
        }
      ]
    },
    {
      "cell_type": "code",
      "metadata": {
        "id": "lmsE4caSHdM9",
        "colab_type": "code",
        "colab": {
          "base_uri": "https://localhost:8080/",
          "height": 52
        },
        "outputId": "ce34406a-48cf-4bec-e0c1-b00d32e2f2f5"
      },
      "source": [
        "Soma=0\n",
        "Areas=np.array(Areas)\n",
        "row, col=Areas.shape\n",
        "print(col)\n",
        "for j in range(col):\n",
        "  Soma=Soma+9094+221*Areas[0,j]**0.81\n",
        "print(Soma)"
      ],
      "execution_count": 29,
      "outputs": [
        {
          "output_type": "stream",
          "text": [
            "4\n",
            "443679.79031974653\n"
          ],
          "name": "stdout"
        }
      ]
    },
    {
      "cell_type": "code",
      "metadata": {
        "id": "I69ZEmwEReg4",
        "colab_type": "code",
        "colab": {
          "base_uri": "https://localhost:8080/",
          "height": 35
        },
        "outputId": "b83a503b-57e0-4df9-d303-5c0a9899df8d"
      },
      "source": [
        "Ind_I,Ind_J,deltaT, Split, WhenSplit, Alpha=SharkBuildMatriz(BEST)\n",
        "print('Alpha=',Alpha)"
      ],
      "execution_count": 30,
      "outputs": [
        {
          "output_type": "stream",
          "text": [
            "Alpha= 0.738978935258752\n"
          ],
          "name": "stdout"
        }
      ]
    },
    {
      "cell_type": "code",
      "metadata": {
        "id": "FkXhJoSF6_Nw",
        "colab_type": "code",
        "colab": {
          "base_uri": "https://localhost:8080/",
          "height": 35
        },
        "outputId": "875bf326-1d95-4e6d-84f5-7158cae09821"
      },
      "source": [
        "print(FOBEST)"
      ],
      "execution_count": 31,
      "outputs": [
        {
          "output_type": "stream",
          "text": [
            "[3251119.05486203]\n"
          ],
          "name": "stdout"
        }
      ]
    }
  ]
}